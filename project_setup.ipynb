{
 "cells": [
  {
   "cell_type": "code",
   "execution_count": null,
   "id": "d096d20f",
   "metadata": {},
   "outputs": [],
   "source": [
    "from utils import *\n",
    "import wandb\n",
    "import os\n",
    "from dotenv import load_dotenv"
   ]
  },
  {
   "cell_type": "code",
   "execution_count": null,
   "id": "94ceb354",
   "metadata": {},
   "outputs": [],
   "source": [
    "\n",
    "# Load environment variables from .env file\n",
    "load_dotenv()\n",
    "\n",
    "# Get API key from environment variable and login\n",
    "wandb.login(key=os.getenv('WANDB_API_KEY'))"
   ]
  },
  {
   "cell_type": "markdown",
   "id": "4a4e0e96",
   "metadata": {},
   "source": [
    "Load dataset"
   ]
  },
  {
   "cell_type": "code",
   "execution_count": null,
   "id": "4bec49e3",
   "metadata": {},
   "outputs": [],
   "source": [
    "datasets = load_datasets()\n",
    "print(f\"Loaded datasets: {datasets}\")"
   ]
  },
  {
   "cell_type": "markdown",
   "id": "63e7bcb7",
   "metadata": {},
   "source": [
    "Save datasets as artifacts in a run"
   ]
  },
  {
   "cell_type": "code",
   "execution_count": null,
   "id": "55c91e8d",
   "metadata": {},
   "outputs": [],
   "source": [
    "project_name = os.getenv('WANDB_PROJECT')"
   ]
  },
  {
   "cell_type": "code",
   "execution_count": null,
   "id": "343f0fa2",
   "metadata": {},
   "outputs": [],
   "source": [
    "# Get the first dataset (training set) and check image shape\n",
    "train_dataset = datasets[0]\n",
    "x, y = train_dataset[0]  # Get first sample\n",
    "print(f\"Image shape: {x.shape}\")\n",
    "print(f\"Expected shape: {input_shape}\")\n",
    "print(f\"Label: {y}\")"
   ]
  },
  {
   "cell_type": "code",
   "execution_count": null,
   "id": "e21cda73",
   "metadata": {},
   "outputs": [],
   "source": [
    "# load_and_log(project_name)"
   ]
  },
  {
   "cell_type": "code",
   "execution_count": null,
   "id": "e87962b5",
   "metadata": {},
   "outputs": [],
   "source": [
    "# preprocess_and_log(project_name)"
   ]
  },
  {
   "cell_type": "markdown",
   "id": "f639a19e",
   "metadata": {},
   "source": [
    "Log the model"
   ]
  },
  {
   "cell_type": "code",
   "execution_count": null,
   "id": "1845ad13",
   "metadata": {},
   "outputs": [],
   "source": [
    "model_config = {\"hidden_layer_sizes\": [32, 64],\n",
    "                \"kernel_sizes\": [3],\n",
    "                \"activation\": \"ReLU\",\n",
    "                \"pool_sizes\": [2],\n",
    "                \"dropout\": 0.5,\n",
    "                \"num_classes\": 10}\n",
    "\n",
    "build_model_and_log(project_name, model_config)\n",
    "# Note: The ConvNet class should be defined in a separate file (cnn_model.py) and imported here.\n"
   ]
  },
  {
   "cell_type": "markdown",
   "id": "275a45ba",
   "metadata": {},
   "source": [
    "Train and evaluate a model"
   ]
  },
  {
   "cell_type": "code",
   "execution_count": null,
   "id": "b095afa1",
   "metadata": {},
   "outputs": [],
   "source": [
    "train_config = {\"batch_size\": 128,\n",
    "                \"epochs\": 5,\n",
    "                \"batch_log_interval\": 25,\n",
    "                \"optimizer\": \"Adam\"}\n",
    "\n",
    "train_and_log(project_name, train_config)"
   ]
  },
  {
   "cell_type": "code",
   "execution_count": null,
   "id": "0ed6f770",
   "metadata": {},
   "outputs": [],
   "source": [
    "evaluate_and_log(project_name)"
   ]
  }
 ],
 "metadata": {
  "kernelspec": {
   "display_name": "mlops-project-IMgmMaNb-py3.12",
   "language": "python",
   "name": "python3"
  },
  "language_info": {
   "codemirror_mode": {
    "name": "ipython",
    "version": 3
   },
   "file_extension": ".py",
   "mimetype": "text/x-python",
   "name": "python",
   "nbconvert_exporter": "python",
   "pygments_lexer": "ipython3",
   "version": "3.12.7"
  }
 },
 "nbformat": 4,
 "nbformat_minor": 5
}
